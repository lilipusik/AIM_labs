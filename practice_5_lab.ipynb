{
 "cells": [
  {
   "cell_type": "markdown",
   "metadata": {},
   "source": [
    "# Задание\n",
    "\n",
    "### 1. Линейная регрессия:\n",
    "1) Разработать модель линейной регрессии, учитывающей все (в примере),2,3 столбца входных переменных.\n",
    "2) Рассчитать MSE.\n",
    "3) Вывести значения коэффициентов модели.\n",
    "### 2. Полиномиальная регрессия:\n",
    "1) Разработать модель линейной регрессии, базисные функции - полином от исходных значений. \n",
    "2) Найти зависимость MSE от максимальной степени полинома. (max_pow <= 10)\n",
    "### 3. Регуляризация. Гребневая регрессия:\n",
    "1) Выбрать оптимальную степень полинома.\n",
    "2) Построить график зависимости максимального модуля параметров, MSE от величины alpha.\n",
    "### 4. Регуляризация. Лассо:\n",
    "1) Выбрать оптимальную степень полинома.\n",
    "2) Построить график зависимости максимального модуля параметров, MSE от величины alpha. \n",
    "\n",
    "https://scikit-learn.org/stable/modules/generated/sklearn.linear_model.Lasso.html \n",
    "\n",
    "linear_model.Lasso(alpha=0.1)\n",
    "### 5. SVR:\n",
    "https://scikit-learn.org/stable/modules/generated/sklearn.svm.SVR.html#sklearn.svm.SVR\n",
    "\n",
    "1) Исследовать точность модели регрессии при применении  ядерных функций 'poly', 'sigmoid'\n",
    "2) Реализовать модель SVR, учитывающую все характеристики исходных данных, выбрать модель с оптимальными параметрами."
   ]
  },
  {
   "cell_type": "markdown",
   "metadata": {},
   "source": [
    "# Решение"
   ]
  },
  {
   "cell_type": "markdown",
   "metadata": {},
   "source": [
    "Загрузка данных"
   ]
  },
  {
   "cell_type": "code",
   "execution_count": 407,
   "metadata": {},
   "outputs": [],
   "source": [
    "import pandas as pd\n",
    "\n",
    "def load_data(file_path):\n",
    "    df = pd.read_csv(file_path)\n",
    "    df.drop(df.columns[[0]], axis=1, inplace=True)  # Удаление ненужного столбца c id\n",
    "    df.info()\n",
    "    return df\n",
    "\n",
    "def get_X_y(df):\n",
    "    return df[['TV', 'radio', 'newspaper']], df['sales']"
   ]
  },
  {
   "cell_type": "markdown",
   "metadata": {},
   "source": [
    "Преобразавоние результата в датафрейм"
   ]
  },
  {
   "cell_type": "code",
   "execution_count": 408,
   "metadata": {},
   "outputs": [],
   "source": [
    "def get_dataframe(results, title):\n",
    "    results_df = pd.DataFrame(results)\n",
    "    print(title)\n",
    "    return results_df"
   ]
  },
  {
   "cell_type": "markdown",
   "metadata": {},
   "source": [
    "Линейная регрессия"
   ]
  },
  {
   "cell_type": "code",
   "execution_count": 409,
   "metadata": {},
   "outputs": [],
   "source": [
    "from sklearn.model_selection import train_test_split\n",
    "from sklearn.linear_model import LinearRegression\n",
    "from sklearn.metrics import mean_squared_error\n",
    "\n",
    "def linear_regression_analysis(df):\n",
    "\n",
    "    results = []\n",
    "\n",
    "    for n_features in range(1, 4):\n",
    "\n",
    "        X_train, X_test, y_train, y_test = train_test_split(df.iloc[:, :n_features], get_X_y(df)[1], random_state=1)\n",
    "\n",
    "        lr = LinearRegression()\n",
    "        lr.fit(X_train, y_train)\n",
    "        y_pred = lr.predict(X_test)\n",
    "\n",
    "        results.append({\n",
    "            'Кол-во признаков': n_features,\n",
    "            'MSE': mean_squared_error(y_test, y_pred),\n",
    "            'Коэффициенты': ', '.join([f'{coef:.10f}' for coef in lr.coef_]),\n",
    "            'Перехват': lr.intercept_\n",
    "        })\n",
    "\n",
    "    return get_dataframe(results, '1. Линейная регрессия c различными признаками')"
   ]
  },
  {
   "cell_type": "markdown",
   "metadata": {},
   "source": [
    "Полиномиальная регрессия и зависимость MSE от степени полинома"
   ]
  },
  {
   "cell_type": "code",
   "execution_count": 410,
   "metadata": {},
   "outputs": [],
   "source": [
    "from sklearn.preprocessing import PolynomialFeatures, maxabs_scale\n",
    "import matplotlib.pyplot as plt\n",
    "\n",
    "def polynomial_regression_analysis(df, max_pow = 10):\n",
    "    \n",
    "    X, y = get_X_y(df)\n",
    "    X_maxabs = maxabs_scale(X, axis=0)\n",
    "    mse_values = []\n",
    "    results = []\n",
    "    \n",
    "    for degree in range(1, max_pow + 1):\n",
    "\n",
    "        poly = PolynomialFeatures(degree)\n",
    "        X_poly = poly.fit_transform(X_maxabs)\n",
    "\n",
    "        X_train, X_test, y_train, y_test = train_test_split(X_poly, y, random_state=1)\n",
    "\n",
    "        lr_poly = LinearRegression()\n",
    "        lr_poly.fit(X_train, y_train)\n",
    "        y_pred = lr_poly.predict(X_test)\n",
    "        mse = mean_squared_error(y_test, y_pred)\n",
    "\n",
    "        mse_values.append(mse)\n",
    "\n",
    "        results.append({\n",
    "            'Степень полинома': degree,\n",
    "            'MSE': mse\n",
    "        })\n",
    "    \n",
    "    plt.plot(range(1, max_pow + 1), mse_values, marker='o')\n",
    "    plt.xlabel('Степень полинома')\n",
    "    plt.ylabel('MSE')\n",
    "    plt.title('Зависимость MSE от степени полинома')\n",
    "    plt.show()\n",
    "\n",
    "    return get_dataframe(results, '2. Полиномиальная регрессия и зависимость MSE от степени полинома')"
   ]
  },
  {
   "cell_type": "markdown",
   "metadata": {},
   "source": [
    "Гребневая регрессия и влияние параметра alpha"
   ]
  },
  {
   "cell_type": "code",
   "execution_count": 411,
   "metadata": {},
   "outputs": [],
   "source": [
    "import numpy as np\n",
    "from sklearn.linear_model import Ridge\n",
    "\n",
    "def ridge_regression_analysis(df, max_degrees=range(1, 15), alpha_values=np.logspace(-3, 3, 100)):\n",
    "    \n",
    "    X, y = get_X_y(df)\n",
    "    X_maxabs = maxabs_scale(X, axis=0)\n",
    "    \n",
    "    best_degree = None\n",
    "    best_mse = float('inf')\n",
    "    best_mse_values = []\n",
    "    \n",
    "    for degree in max_degrees:\n",
    "        poly = PolynomialFeatures(degree)\n",
    "        X_poly = poly.fit_transform(X_maxabs)\n",
    "        X_train, X_test, y_train, y_test = train_test_split(X_poly, y, random_state=1)\n",
    "        \n",
    "        ridge_mse_values = []\n",
    "        ridge_coef_max = []\n",
    "        \n",
    "        for alpha in alpha_values:\n",
    "            ridge = Ridge(alpha=alpha)\n",
    "            ridge.fit(X_train, y_train)\n",
    "            y_pred = ridge.predict(X_test)\n",
    "            \n",
    "            mse = mean_squared_error(y_test, y_pred)\n",
    "            ridge_mse_values.append(mse)\n",
    "            ridge_coef_max.append(np.max(np.abs(ridge.coef_)))\n",
    "        \n",
    "        avg_mse = np.mean(ridge_mse_values)\n",
    "        best_mse_values.append(avg_mse)\n",
    "        \n",
    "        # Обновляем лучшую степень, если MSE стало меньше\n",
    "        if avg_mse < best_mse:\n",
    "            best_mse = avg_mse\n",
    "            best_degree = degree\n",
    "    \n",
    "    print(f'Оптимальная степень полинома: {best_degree} с средним MSE: {best_mse}')\n",
    "    \n",
    "    # График зависимости средней ошибки от степени полинома\n",
    "    plt.figure(figsize=(8, 5))\n",
    "    plt.plot(max_degrees, best_mse_values, marker='o')\n",
    "    plt.xlabel('Степень полинома')\n",
    "    plt.ylabel('Среднее MSE')\n",
    "    plt.title('Зависимость MSE от степени полинома')\n",
    "    plt.show()"
   ]
  },
  {
   "cell_type": "markdown",
   "metadata": {},
   "source": [
    "Лассо-регрессия и влияние параметра alpha"
   ]
  },
  {
   "cell_type": "code",
   "execution_count": 412,
   "metadata": {},
   "outputs": [],
   "source": [
    "from sklearn.linear_model import Lasso\n",
    "\n",
    "def lasso_regression_analysis(df, max_degrees=range(1, 15), alpha_values=np.logspace(-3, 3, 100)):\n",
    "    \n",
    "    X, y = get_X_y(df)\n",
    "    X_maxabs = maxabs_scale(X, axis=0)\n",
    "    \n",
    "    best_degree = None\n",
    "    best_mse = float('inf')\n",
    "    best_mse_values = []\n",
    "    \n",
    "    for degree in max_degrees:\n",
    "        poly = PolynomialFeatures(degree)\n",
    "        X_poly = poly.fit_transform(X_maxabs)\n",
    "        X_train, X_test, y_train, y_test = train_test_split(X_poly, y, random_state=1)\n",
    "        \n",
    "        lasso_mse_values = []\n",
    "        lasso_coef_max = []\n",
    "        \n",
    "        for alpha in alpha_values:\n",
    "            lasso = Lasso(alpha=alpha)\n",
    "            lasso.fit(X_train, y_train)\n",
    "            y_pred = lasso.predict(X_test)\n",
    "            \n",
    "            mse = mean_squared_error(y_test, y_pred)\n",
    "            lasso_mse_values.append(mse)\n",
    "            lasso_coef_max.append(np.max(np.abs(lasso.coef_)))\n",
    "        \n",
    "        avg_mse = np.mean(lasso_mse_values)\n",
    "        best_mse_values.append(avg_mse)\n",
    "        \n",
    "        if avg_mse < best_mse:\n",
    "            best_mse = avg_mse\n",
    "            best_degree = degree\n",
    "    \n",
    "    print(f'Оптимальная степень полинома: {best_degree} с средним MSE: {best_mse}')\n",
    "\n",
    "    plt.plot(alpha_values, lasso_mse_values, label='MSE')\n",
    "    plt.plot(alpha_values, lasso_coef_max, label='Максимальный модуль коэффициентов')\n",
    "    plt.xscale('log')\n",
    "    plt.xlabel('Alpha')\n",
    "    plt.ylabel('Значение')\n",
    "    plt.title('Лассо: MSE и максимальный модуль параметров')\n",
    "    plt.legend()\n",
    "    plt.show()"
   ]
  },
  {
   "cell_type": "markdown",
   "metadata": {},
   "source": [
    "SVR с разными ядрами"
   ]
  },
  {
   "cell_type": "code",
   "execution_count": 413,
   "metadata": {},
   "outputs": [],
   "source": [
    "from sklearn.svm import SVR\n",
    "from sklearn.model_selection import GridSearchCV\n",
    "\n",
    "def get_best_params(X_train, y_train, kernels, model = SVR()):\n",
    "    param_grid = {\n",
    "        'C': [0.1, 1, 10, 100, 1000, 10000],\n",
    "        'gamma': [0.01, 0.1, 1],\n",
    "        'epsilon': [0.01, 0.1, 1],\n",
    "        'kernel': kernels\n",
    "    }\n",
    "\n",
    "    grid_search = GridSearchCV(model, param_grid, scoring='neg_mean_squared_error', cv=5, n_jobs=-1)\n",
    "    grid_search.fit(X_train, y_train)\n",
    "\n",
    "    print('Лучшие параметры:', grid_search.best_params_)\n",
    "\n",
    "    return grid_search.best_params_"
   ]
  },
  {
   "cell_type": "code",
   "execution_count": 414,
   "metadata": {},
   "outputs": [],
   "source": [
    "def svr_analysis(df, kernels=['poly', 'sigmoid']):\n",
    "\n",
    "    X, y = get_X_y(df)\n",
    "    X_maxabs = maxabs_scale(X, axis=0)\n",
    "\n",
    "    X_train, X_test, y_train, y_test = train_test_split(X_maxabs, y, random_state=1)\n",
    "\n",
    "    best_params = get_best_params(X_train, y_train, kernels)\n",
    "\n",
    "    results = []\n",
    "    \n",
    "    for kernel in kernels:\n",
    "        svr = SVR(kernel=kernel, C=best_params['C'], gamma=best_params['gamma'], epsilon=best_params['epsilon'])\n",
    "        svr.fit(X_train, y_train)\n",
    "        y_pred = svr.predict(X_test)\n",
    "\n",
    "        results.append({\n",
    "            'Ядро': kernel,\n",
    "            'MSE': mean_squared_error(y_test, y_pred)\n",
    "        })\n",
    "\n",
    "    return get_dataframe(results, '5. SVR с различными ядрами')"
   ]
  },
  {
   "cell_type": "markdown",
   "metadata": {},
   "source": [
    "Результ"
   ]
  },
  {
   "cell_type": "code",
   "execution_count": 415,
   "metadata": {},
   "outputs": [
    {
     "name": "stdout",
     "output_type": "stream",
     "text": [
      "<class 'pandas.core.frame.DataFrame'>\n",
      "RangeIndex: 200 entries, 0 to 199\n",
      "Data columns (total 4 columns):\n",
      " #   Column     Non-Null Count  Dtype  \n",
      "---  ------     --------------  -----  \n",
      " 0   TV         200 non-null    float64\n",
      " 1   radio      200 non-null    float64\n",
      " 2   newspaper  200 non-null    float64\n",
      " 3   sales      200 non-null    float64\n",
      "dtypes: float64(4)\n",
      "memory usage: 6.4 KB\n"
     ]
    }
   ],
   "source": [
    "df = load_data('Advertising (1).csv')\n",
    "\n",
    "plt.style.use('ggplot')\n",
    "plt.rcParams['figure.figsize'] = (8, 5)"
   ]
  },
  {
   "cell_type": "code",
   "execution_count": 416,
   "metadata": {},
   "outputs": [
    {
     "name": "stdout",
     "output_type": "stream",
     "text": [
      "1. Линейная регрессия c различными признаками\n"
     ]
    },
    {
     "data": {
      "text/html": [
       "<div>\n",
       "<style scoped>\n",
       "    .dataframe tbody tr th:only-of-type {\n",
       "        vertical-align: middle;\n",
       "    }\n",
       "\n",
       "    .dataframe tbody tr th {\n",
       "        vertical-align: top;\n",
       "    }\n",
       "\n",
       "    .dataframe thead th {\n",
       "        text-align: right;\n",
       "    }\n",
       "</style>\n",
       "<table border=\"1\" class=\"dataframe\">\n",
       "  <thead>\n",
       "    <tr style=\"text-align: right;\">\n",
       "      <th></th>\n",
       "      <th>Кол-во признаков</th>\n",
       "      <th>MSE</th>\n",
       "      <th>Коэффициенты</th>\n",
       "      <th>Перехват</th>\n",
       "    </tr>\n",
       "  </thead>\n",
       "  <tbody>\n",
       "    <tr>\n",
       "      <th>0</th>\n",
       "      <td>1</td>\n",
       "      <td>10.310070</td>\n",
       "      <td>0.0480294500</td>\n",
       "      <td>6.911973</td>\n",
       "    </tr>\n",
       "    <tr>\n",
       "      <th>1</th>\n",
       "      <td>2</td>\n",
       "      <td>1.926276</td>\n",
       "      <td>0.0466023407, 0.1811795920</td>\n",
       "      <td>2.927237</td>\n",
       "    </tr>\n",
       "    <tr>\n",
       "      <th>2</th>\n",
       "      <td>3</td>\n",
       "      <td>1.973046</td>\n",
       "      <td>0.0465645679, 0.1791581225, 0.0034504647</td>\n",
       "      <td>2.876967</td>\n",
       "    </tr>\n",
       "  </tbody>\n",
       "</table>\n",
       "</div>"
      ],
      "text/plain": [
       "   Кол-во признаков        MSE                              Коэффициенты  \\\n",
       "0                 1  10.310070                              0.0480294500   \n",
       "1                 2   1.926276                0.0466023407, 0.1811795920   \n",
       "2                 3   1.973046  0.0465645679, 0.1791581225, 0.0034504647   \n",
       "\n",
       "   Перехват  \n",
       "0  6.911973  \n",
       "1  2.927237  \n",
       "2  2.876967  "
      ]
     },
     "execution_count": 416,
     "metadata": {},
     "output_type": "execute_result"
    }
   ],
   "source": [
    "linear_regression_analysis(df)"
   ]
  },
  {
   "cell_type": "code",
   "execution_count": 417,
   "metadata": {},
   "outputs": [
    {
     "data": {
      "image/png": "[encoded data removed]",
      "text/plain": [
       "<Figure size 800x500 with 1 Axes>"
      ]
     },
     "metadata": {},
     "output_type": "display_data"
    },
    {
     "name": "stdout",
     "output_type": "stream",
     "text": [
      "2. Полиномиальная регрессия и зависимость MSE от степени полинома\n"
     ]
    },
    {
     "data": {
      "text/html": [
       "<div>\n",
       "<style scoped>\n",
       "    .dataframe tbody tr th:only-of-type {\n",
       "        vertical-align: middle;\n",
       "    }\n",
       "\n",
       "    .dataframe tbody tr th {\n",
       "        vertical-align: top;\n",
       "    }\n",
       "\n",
       "    .dataframe thead th {\n",
       "        text-align: right;\n",
       "    }\n",
       "</style>\n",
       "<table border=\"1\" class=\"dataframe\">\n",
       "  <thead>\n",
       "    <tr style=\"text-align: right;\">\n",
       "      <th></th>\n",
       "      <th>Степень полинома</th>\n",
       "      <th>MSE</th>\n",
       "    </tr>\n",
       "  </thead>\n",
       "  <tbody>\n",
       "    <tr>\n",
       "      <th>0</th>\n",
       "      <td>1</td>\n",
       "      <td>1.973046e+00</td>\n",
       "    </tr>\n",
       "    <tr>\n",
       "      <th>1</th>\n",
       "      <td>2</td>\n",
       "      <td>2.436827e-01</td>\n",
       "    </tr>\n",
       "    <tr>\n",
       "      <th>2</th>\n",
       "      <td>3</td>\n",
       "      <td>1.789025e-01</td>\n",
       "    </tr>\n",
       "    <tr>\n",
       "      <th>3</th>\n",
       "      <td>4</td>\n",
       "      <td>1.629659e-01</td>\n",
       "    </tr>\n",
       "    <tr>\n",
       "      <th>4</th>\n",
       "      <td>5</td>\n",
       "      <td>6.965099e+00</td>\n",
       "    </tr>\n",
       "    <tr>\n",
       "      <th>5</th>\n",
       "      <td>6</td>\n",
       "      <td>7.623268e+00</td>\n",
       "    </tr>\n",
       "    <tr>\n",
       "      <th>6</th>\n",
       "      <td>7</td>\n",
       "      <td>1.028147e+05</td>\n",
       "    </tr>\n",
       "    <tr>\n",
       "      <th>7</th>\n",
       "      <td>8</td>\n",
       "      <td>5.380073e+07</td>\n",
       "    </tr>\n",
       "    <tr>\n",
       "      <th>8</th>\n",
       "      <td>9</td>\n",
       "      <td>4.097061e+07</td>\n",
       "    </tr>\n",
       "    <tr>\n",
       "      <th>9</th>\n",
       "      <td>10</td>\n",
       "      <td>4.320750e+07</td>\n",
       "    </tr>\n",
       "  </tbody>\n",
       "</table>\n",
       "</div>"
      ],
      "text/plain": [
       "   Степень полинома           MSE\n",
       "0                 1  1.973046e+00\n",
       "1                 2  2.436827e-01\n",
       "2                 3  1.789025e-01\n",
       "3                 4  1.629659e-01\n",
       "4                 5  6.965099e+00\n",
       "5                 6  7.623268e+00\n",
       "6                 7  1.028147e+05\n",
       "7                 8  5.380073e+07\n",
       "8                 9  4.097061e+07\n",
       "9                10  4.320750e+07"
      ]
     },
     "execution_count": 417,
     "metadata": {},
     "output_type": "execute_result"
    }
   ],
   "source": [
    "polynomial_regression_analysis(df)"
   ]
  },
  {
   "cell_type": "code",
   "execution_count": 418,
   "metadata": {},
   "outputs": [
    {
     "name": "stdout",
     "output_type": "stream",
     "text": [
      "\n",
      "3. Гребневая регрессия и влияние параметра alpha:\n",
      "Оптимальная степень полинома: 7 с средним MSE: 3.5639590136802632\n"
     ]
    },
    {
     "data": {
      "image/png": "[encoded data removed]",
      "text/plain": [
       "<Figure size 800x500 with 1 Axes>"
      ]
     },
     "metadata": {},
     "output_type": "display_data"
    }
   ],
   "source": [
    "print('\\n3. Гребневая регрессия и влияние параметра alpha:')\n",
    "ridge_regression_analysis(df)"
   ]
  },
  {
   "cell_type": "code",
   "execution_count": 419,
   "metadata": {},
   "outputs": [
    {
     "name": "stdout",
     "output_type": "stream",
     "text": [
      "\n",
      "4. Лассо-регрессия и влияние параметра alpha:\n"
     ]
    },
    {
     "name": "stderr",
     "output_type": "stream",
     "text": [
      "c:\\Python312\\Lib\\site-packages\\sklearn\\linear_model\\_coordinate_descent.py:697: ConvergenceWarning: Objective did not converge. You might want to increase the number of iterations, check the scale of the features or consider increasing regularisation. Duality gap: 4.365e+00, tolerance: 4.221e-01\n",
      "  model = cd_fast.enet_coordinate_descent(\n",
      "c:\\Python312\\Lib\\site-packages\\sklearn\\linear_model\\_coordinate_descent.py:697: ConvergenceWarning: Objective did not converge. You might want to increase the number of iterations, check the scale of the features or consider increasing regularisation. Duality gap: 3.491e+00, tolerance: 4.221e-01\n",
      "  model = cd_fast.enet_coordinate_descent(\n",
      "c:\\Python312\\Lib\\site-packages\\sklearn\\linear_model\\_coordinate_descent.py:697: ConvergenceWarning: Objective did not converge. You might want to increase the number of iterations, check the scale of the features or consider increasing regularisation. Duality gap: 2.743e+00, tolerance: 4.221e-01\n",
      "  model = cd_fast.enet_coordinate_descent(\n",
      "c:\\Python312\\Lib\\site-packages\\sklearn\\linear_model\\_coordinate_descent.py:697: ConvergenceWarning: Objective did not converge. You might want to increase the number of iterations, check the scale of the features or consider increasing regularisation. Duality gap: 2.146e+00, tolerance: 4.221e-01\n",
      "  model = cd_fast.enet_coordinate_descent(\n",
      "c:\\Python312\\Lib\\site-packages\\sklearn\\linear_model\\_coordinate_descent.py:697: ConvergenceWarning: Objective did not converge. You might want to increase the number of iterations, check the scale of the features or consider increasing regularisation. Duality gap: 9.177e-01, tolerance: 4.221e-01\n",
      "  model = cd_fast.enet_coordinate_descent(\n",
      "c:\\Python312\\Lib\\site-packages\\sklearn\\linear_model\\_coordinate_descent.py:697: ConvergenceWarning: Objective did not converge. You might want to increase the number of iterations, check the scale of the features or consider increasing regularisation. Duality gap: 4.817e-01, tolerance: 4.221e-01\n",
      "  model = cd_fast.enet_coordinate_descent(\n",
      "c:\\Python312\\Lib\\site-packages\\sklearn\\linear_model\\_coordinate_descent.py:697: ConvergenceWarning: Objective did not converge. You might want to increase the number of iterations, check the scale of the features or consider increasing regularisation. Duality gap: 4.699e-01, tolerance: 4.221e-01\n",
      "  model = cd_fast.enet_coordinate_descent(\n",
      "c:\\Python312\\Lib\\site-packages\\sklearn\\linear_model\\_coordinate_descent.py:697: ConvergenceWarning: Objective did not converge. You might want to increase the number of iterations, check the scale of the features or consider increasing regularisation. Duality gap: 4.651e-01, tolerance: 4.221e-01\n",
      "  model = cd_fast.enet_coordinate_descent(\n",
      "c:\\Python312\\Lib\\site-packages\\sklearn\\linear_model\\_coordinate_descent.py:697: ConvergenceWarning: Objective did not converge. You might want to increase the number of iterations, check the scale of the features or consider increasing regularisation. Duality gap: 4.409e-01, tolerance: 4.221e-01\n",
      "  model = cd_fast.enet_coordinate_descent(\n",
      "c:\\Python312\\Lib\\site-packages\\sklearn\\linear_model\\_coordinate_descent.py:697: ConvergenceWarning: Objective did not converge. You might want to increase the number of iterations, check the scale of the features or consider increasing regularisation. Duality gap: 4.665e-01, tolerance: 4.221e-01\n",
      "  model = cd_fast.enet_coordinate_descent(\n",
      "c:\\Python312\\Lib\\site-packages\\sklearn\\linear_model\\_coordinate_descent.py:697: ConvergenceWarning: Objective did not converge. You might want to increase the number of iterations, check the scale of the features or consider increasing regularisation. Duality gap: 7.213e-01, tolerance: 4.221e-01\n",
      "  model = cd_fast.enet_coordinate_descent(\n",
      "c:\\Python312\\Lib\\site-packages\\sklearn\\linear_model\\_coordinate_descent.py:697: ConvergenceWarning: Objective did not converge. You might want to increase the number of iterations, check the scale of the features or consider increasing regularisation. Duality gap: 6.111e-01, tolerance: 4.221e-01\n",
      "  model = cd_fast.enet_coordinate_descent(\n",
      "c:\\Python312\\Lib\\site-packages\\sklearn\\linear_model\\_coordinate_descent.py:697: ConvergenceWarning: Objective did not converge. You might want to increase the number of iterations, check the scale of the features or consider increasing regularisation. Duality gap: 4.420e-01, tolerance: 4.221e-01\n",
      "  model = cd_fast.enet_coordinate_descent(\n",
      "c:\\Python312\\Lib\\site-packages\\sklearn\\linear_model\\_coordinate_descent.py:697: ConvergenceWarning: Objective did not converge. You might want to increase the number of iterations, check the scale of the features or consider increasing regularisation. Duality gap: 4.620e-01, tolerance: 4.221e-01\n",
      "  model = cd_fast.enet_coordinate_descent(\n",
      "c:\\Python312\\Lib\\site-packages\\sklearn\\linear_model\\_coordinate_descent.py:697: ConvergenceWarning: Objective did not converge. You might want to increase the number of iterations, check the scale of the features or consider increasing regularisation. Duality gap: 4.658e-01, tolerance: 4.221e-01\n",
      "  model = cd_fast.enet_coordinate_descent(\n",
      "c:\\Python312\\Lib\\site-packages\\sklearn\\linear_model\\_coordinate_descent.py:697: ConvergenceWarning: Objective did not converge. You might want to increase the number of iterations, check the scale of the features or consider increasing regularisation. Duality gap: 1.127e+00, tolerance: 4.221e-01\n",
      "  model = cd_fast.enet_coordinate_descent(\n",
      "c:\\Python312\\Lib\\site-packages\\sklearn\\linear_model\\_coordinate_descent.py:697: ConvergenceWarning: Objective did not converge. You might want to increase the number of iterations, check the scale of the features or consider increasing regularisation. Duality gap: 1.913e+00, tolerance: 4.221e-01\n",
      "  model = cd_fast.enet_coordinate_descent(\n",
      "c:\\Python312\\Lib\\site-packages\\sklearn\\linear_model\\_coordinate_descent.py:697: ConvergenceWarning: Objective did not converge. You might want to increase the number of iterations, check the scale of the features or consider increasing regularisation. Duality gap: 1.805e+00, tolerance: 4.221e-01\n",
      "  model = cd_fast.enet_coordinate_descent(\n",
      "c:\\Python312\\Lib\\site-packages\\sklearn\\linear_model\\_coordinate_descent.py:697: ConvergenceWarning: Objective did not converge. You might want to increase the number of iterations, check the scale of the features or consider increasing regularisation. Duality gap: 1.128e+00, tolerance: 4.221e-01\n",
      "  model = cd_fast.enet_coordinate_descent(\n",
      "c:\\Python312\\Lib\\site-packages\\sklearn\\linear_model\\_coordinate_descent.py:697: ConvergenceWarning: Objective did not converge. You might want to increase the number of iterations, check the scale of the features or consider increasing regularisation. Duality gap: 4.915e-01, tolerance: 4.221e-01\n",
      "  model = cd_fast.enet_coordinate_descent(\n",
      "c:\\Python312\\Lib\\site-packages\\sklearn\\linear_model\\_coordinate_descent.py:697: ConvergenceWarning: Objective did not converge. You might want to increase the number of iterations, check the scale of the features or consider increasing regularisation. Duality gap: 1.004e+00, tolerance: 4.221e-01\n",
      "  model = cd_fast.enet_coordinate_descent(\n",
      "c:\\Python312\\Lib\\site-packages\\sklearn\\linear_model\\_coordinate_descent.py:697: ConvergenceWarning: Objective did not converge. You might want to increase the number of iterations, check the scale of the features or consider increasing regularisation. Duality gap: 1.436e+00, tolerance: 4.221e-01\n",
      "  model = cd_fast.enet_coordinate_descent(\n",
      "c:\\Python312\\Lib\\site-packages\\sklearn\\linear_model\\_coordinate_descent.py:697: ConvergenceWarning: Objective did not converge. You might want to increase the number of iterations, check the scale of the features or consider increasing regularisation. Duality gap: 1.783e+00, tolerance: 4.221e-01\n",
      "  model = cd_fast.enet_coordinate_descent(\n",
      "c:\\Python312\\Lib\\site-packages\\sklearn\\linear_model\\_coordinate_descent.py:697: ConvergenceWarning: Objective did not converge. You might want to increase the number of iterations, check the scale of the features or consider increasing regularisation. Duality gap: 1.086e+00, tolerance: 4.221e-01\n",
      "  model = cd_fast.enet_coordinate_descent(\n",
      "c:\\Python312\\Lib\\site-packages\\sklearn\\linear_model\\_coordinate_descent.py:697: ConvergenceWarning: Objective did not converge. You might want to increase the number of iterations, check the scale of the features or consider increasing regularisation. Duality gap: 7.216e-01, tolerance: 4.221e-01\n",
      "  model = cd_fast.enet_coordinate_descent(\n",
      "c:\\Python312\\Lib\\site-packages\\sklearn\\linear_model\\_coordinate_descent.py:697: ConvergenceWarning: Objective did not converge. You might want to increase the number of iterations, check the scale of the features or consider increasing regularisation. Duality gap: 6.036e-01, tolerance: 4.221e-01\n",
      "  model = cd_fast.enet_coordinate_descent(\n",
      "c:\\Python312\\Lib\\site-packages\\sklearn\\linear_model\\_coordinate_descent.py:697: ConvergenceWarning: Objective did not converge. You might want to increase the number of iterations, check the scale of the features or consider increasing regularisation. Duality gap: 5.391e-01, tolerance: 4.221e-01\n",
      "  model = cd_fast.enet_coordinate_descent(\n",
      "c:\\Python312\\Lib\\site-packages\\sklearn\\linear_model\\_coordinate_descent.py:697: ConvergenceWarning: Objective did not converge. You might want to increase the number of iterations, check the scale of the features or consider increasing regularisation. Duality gap: 1.317e+00, tolerance: 4.221e-01\n",
      "  model = cd_fast.enet_coordinate_descent(\n",
      "c:\\Python312\\Lib\\site-packages\\sklearn\\linear_model\\_coordinate_descent.py:697: ConvergenceWarning: Objective did not converge. You might want to increase the number of iterations, check the scale of the features or consider increasing regularisation. Duality gap: 1.256e+00, tolerance: 4.221e-01\n",
      "  model = cd_fast.enet_coordinate_descent(\n",
      "c:\\Python312\\Lib\\site-packages\\sklearn\\linear_model\\_coordinate_descent.py:697: ConvergenceWarning: Objective did not converge. You might want to increase the number of iterations, check the scale of the features or consider increasing regularisation. Duality gap: 1.746e+00, tolerance: 4.221e-01\n",
      "  model = cd_fast.enet_coordinate_descent(\n",
      "c:\\Python312\\Lib\\site-packages\\sklearn\\linear_model\\_coordinate_descent.py:697: ConvergenceWarning: Objective did not converge. You might want to increase the number of iterations, check the scale of the features or consider increasing regularisation. Duality gap: 1.081e+00, tolerance: 4.221e-01\n",
      "  model = cd_fast.enet_coordinate_descent(\n",
      "c:\\Python312\\Lib\\site-packages\\sklearn\\linear_model\\_coordinate_descent.py:697: ConvergenceWarning: Objective did not converge. You might want to increase the number of iterations, check the scale of the features or consider increasing regularisation. Duality gap: 4.473e-01, tolerance: 4.221e-01\n",
      "  model = cd_fast.enet_coordinate_descent(\n",
      "c:\\Python312\\Lib\\site-packages\\sklearn\\linear_model\\_coordinate_descent.py:697: ConvergenceWarning: Objective did not converge. You might want to increase the number of iterations, check the scale of the features or consider increasing regularisation. Duality gap: 6.040e-01, tolerance: 4.221e-01\n",
      "  model = cd_fast.enet_coordinate_descent(\n",
      "c:\\Python312\\Lib\\site-packages\\sklearn\\linear_model\\_coordinate_descent.py:697: ConvergenceWarning: Objective did not converge. You might want to increase the number of iterations, check the scale of the features or consider increasing regularisation. Duality gap: 5.831e-01, tolerance: 4.221e-01\n",
      "  model = cd_fast.enet_coordinate_descent(\n",
      "c:\\Python312\\Lib\\site-packages\\sklearn\\linear_model\\_coordinate_descent.py:697: ConvergenceWarning: Objective did not converge. You might want to increase the number of iterations, check the scale of the features or consider increasing regularisation. Duality gap: 1.928e+00, tolerance: 4.221e-01\n",
      "  model = cd_fast.enet_coordinate_descent(\n",
      "c:\\Python312\\Lib\\site-packages\\sklearn\\linear_model\\_coordinate_descent.py:697: ConvergenceWarning: Objective did not converge. You might want to increase the number of iterations, check the scale of the features or consider increasing regularisation. Duality gap: 1.732e+00, tolerance: 4.221e-01\n",
      "  model = cd_fast.enet_coordinate_descent(\n",
      "c:\\Python312\\Lib\\site-packages\\sklearn\\linear_model\\_coordinate_descent.py:697: ConvergenceWarning: Objective did not converge. You might want to increase the number of iterations, check the scale of the features or consider increasing regularisation. Duality gap: 1.725e+00, tolerance: 4.221e-01\n",
      "  model = cd_fast.enet_coordinate_descent(\n",
      "c:\\Python312\\Lib\\site-packages\\sklearn\\linear_model\\_coordinate_descent.py:697: ConvergenceWarning: Objective did not converge. You might want to increase the number of iterations, check the scale of the features or consider increasing regularisation. Duality gap: 9.639e-01, tolerance: 4.221e-01\n",
      "  model = cd_fast.enet_coordinate_descent(\n",
      "c:\\Python312\\Lib\\site-packages\\sklearn\\linear_model\\_coordinate_descent.py:697: ConvergenceWarning: Objective did not converge. You might want to increase the number of iterations, check the scale of the features or consider increasing regularisation. Duality gap: 4.258e-01, tolerance: 4.221e-01\n",
      "  model = cd_fast.enet_coordinate_descent(\n",
      "c:\\Python312\\Lib\\site-packages\\sklearn\\linear_model\\_coordinate_descent.py:697: ConvergenceWarning: Objective did not converge. You might want to increase the number of iterations, check the scale of the features or consider increasing regularisation. Duality gap: 6.052e-01, tolerance: 4.221e-01\n",
      "  model = cd_fast.enet_coordinate_descent(\n",
      "c:\\Python312\\Lib\\site-packages\\sklearn\\linear_model\\_coordinate_descent.py:697: ConvergenceWarning: Objective did not converge. You might want to increase the number of iterations, check the scale of the features or consider increasing regularisation. Duality gap: 6.382e-01, tolerance: 4.221e-01\n",
      "  model = cd_fast.enet_coordinate_descent(\n",
      "c:\\Python312\\Lib\\site-packages\\sklearn\\linear_model\\_coordinate_descent.py:697: ConvergenceWarning: Objective did not converge. You might want to increase the number of iterations, check the scale of the features or consider increasing regularisation. Duality gap: 2.548e+00, tolerance: 4.221e-01\n",
      "  model = cd_fast.enet_coordinate_descent(\n",
      "c:\\Python312\\Lib\\site-packages\\sklearn\\linear_model\\_coordinate_descent.py:697: ConvergenceWarning: Objective did not converge. You might want to increase the number of iterations, check the scale of the features or consider increasing regularisation. Duality gap: 2.128e+00, tolerance: 4.221e-01\n",
      "  model = cd_fast.enet_coordinate_descent(\n",
      "c:\\Python312\\Lib\\site-packages\\sklearn\\linear_model\\_coordinate_descent.py:697: ConvergenceWarning: Objective did not converge. You might want to increase the number of iterations, check the scale of the features or consider increasing regularisation. Duality gap: 1.541e+00, tolerance: 4.221e-01\n",
      "  model = cd_fast.enet_coordinate_descent(\n",
      "c:\\Python312\\Lib\\site-packages\\sklearn\\linear_model\\_coordinate_descent.py:697: ConvergenceWarning: Objective did not converge. You might want to increase the number of iterations, check the scale of the features or consider increasing regularisation. Duality gap: 1.040e+00, tolerance: 4.221e-01\n",
      "  model = cd_fast.enet_coordinate_descent(\n",
      "c:\\Python312\\Lib\\site-packages\\sklearn\\linear_model\\_coordinate_descent.py:697: ConvergenceWarning: Objective did not converge. You might want to increase the number of iterations, check the scale of the features or consider increasing regularisation. Duality gap: 4.600e-01, tolerance: 4.221e-01\n",
      "  model = cd_fast.enet_coordinate_descent(\n",
      "c:\\Python312\\Lib\\site-packages\\sklearn\\linear_model\\_coordinate_descent.py:697: ConvergenceWarning: Objective did not converge. You might want to increase the number of iterations, check the scale of the features or consider increasing regularisation. Duality gap: 6.051e-01, tolerance: 4.221e-01\n",
      "  model = cd_fast.enet_coordinate_descent(\n",
      "c:\\Python312\\Lib\\site-packages\\sklearn\\linear_model\\_coordinate_descent.py:697: ConvergenceWarning: Objective did not converge. You might want to increase the number of iterations, check the scale of the features or consider increasing regularisation. Duality gap: 6.894e-01, tolerance: 4.221e-01\n",
      "  model = cd_fast.enet_coordinate_descent(\n",
      "c:\\Python312\\Lib\\site-packages\\sklearn\\linear_model\\_coordinate_descent.py:697: ConvergenceWarning: Objective did not converge. You might want to increase the number of iterations, check the scale of the features or consider increasing regularisation. Duality gap: 2.758e+00, tolerance: 4.221e-01\n",
      "  model = cd_fast.enet_coordinate_descent(\n",
      "c:\\Python312\\Lib\\site-packages\\sklearn\\linear_model\\_coordinate_descent.py:697: ConvergenceWarning: Objective did not converge. You might want to increase the number of iterations, check the scale of the features or consider increasing regularisation. Duality gap: 2.323e+00, tolerance: 4.221e-01\n",
      "  model = cd_fast.enet_coordinate_descent(\n",
      "c:\\Python312\\Lib\\site-packages\\sklearn\\linear_model\\_coordinate_descent.py:697: ConvergenceWarning: Objective did not converge. You might want to increase the number of iterations, check the scale of the features or consider increasing regularisation. Duality gap: 1.353e+00, tolerance: 4.221e-01\n",
      "  model = cd_fast.enet_coordinate_descent(\n",
      "c:\\Python312\\Lib\\site-packages\\sklearn\\linear_model\\_coordinate_descent.py:697: ConvergenceWarning: Objective did not converge. You might want to increase the number of iterations, check the scale of the features or consider increasing regularisation. Duality gap: 1.250e+00, tolerance: 4.221e-01\n",
      "  model = cd_fast.enet_coordinate_descent(\n",
      "c:\\Python312\\Lib\\site-packages\\sklearn\\linear_model\\_coordinate_descent.py:697: ConvergenceWarning: Objective did not converge. You might want to increase the number of iterations, check the scale of the features or consider increasing regularisation. Duality gap: 6.050e-01, tolerance: 4.221e-01\n",
      "  model = cd_fast.enet_coordinate_descent(\n",
      "c:\\Python312\\Lib\\site-packages\\sklearn\\linear_model\\_coordinate_descent.py:697: ConvergenceWarning: Objective did not converge. You might want to increase the number of iterations, check the scale of the features or consider increasing regularisation. Duality gap: 7.240e-01, tolerance: 4.221e-01\n",
      "  model = cd_fast.enet_coordinate_descent(\n",
      "c:\\Python312\\Lib\\site-packages\\sklearn\\linear_model\\_coordinate_descent.py:697: ConvergenceWarning: Objective did not converge. You might want to increase the number of iterations, check the scale of the features or consider increasing regularisation. Duality gap: 2.695e+00, tolerance: 4.221e-01\n",
      "  model = cd_fast.enet_coordinate_descent(\n",
      "c:\\Python312\\Lib\\site-packages\\sklearn\\linear_model\\_coordinate_descent.py:697: ConvergenceWarning: Objective did not converge. You might want to increase the number of iterations, check the scale of the features or consider increasing regularisation. Duality gap: 1.783e+00, tolerance: 4.221e-01\n",
      "  model = cd_fast.enet_coordinate_descent(\n",
      "c:\\Python312\\Lib\\site-packages\\sklearn\\linear_model\\_coordinate_descent.py:697: ConvergenceWarning: Objective did not converge. You might want to increase the number of iterations, check the scale of the features or consider increasing regularisation. Duality gap: 1.420e+00, tolerance: 4.221e-01\n",
      "  model = cd_fast.enet_coordinate_descent(\n",
      "c:\\Python312\\Lib\\site-packages\\sklearn\\linear_model\\_coordinate_descent.py:697: ConvergenceWarning: Objective did not converge. You might want to increase the number of iterations, check the scale of the features or consider increasing regularisation. Duality gap: 1.276e+00, tolerance: 4.221e-01\n",
      "  model = cd_fast.enet_coordinate_descent(\n",
      "c:\\Python312\\Lib\\site-packages\\sklearn\\linear_model\\_coordinate_descent.py:697: ConvergenceWarning: Objective did not converge. You might want to increase the number of iterations, check the scale of the features or consider increasing regularisation. Duality gap: 6.050e-01, tolerance: 4.221e-01\n",
      "  model = cd_fast.enet_coordinate_descent(\n",
      "c:\\Python312\\Lib\\site-packages\\sklearn\\linear_model\\_coordinate_descent.py:697: ConvergenceWarning: Objective did not converge. You might want to increase the number of iterations, check the scale of the features or consider increasing regularisation. Duality gap: 7.395e-01, tolerance: 4.221e-01\n",
      "  model = cd_fast.enet_coordinate_descent(\n",
      "c:\\Python312\\Lib\\site-packages\\sklearn\\linear_model\\_coordinate_descent.py:697: ConvergenceWarning: Objective did not converge. You might want to increase the number of iterations, check the scale of the features or consider increasing regularisation. Duality gap: 2.201e+00, tolerance: 4.221e-01\n",
      "  model = cd_fast.enet_coordinate_descent(\n",
      "c:\\Python312\\Lib\\site-packages\\sklearn\\linear_model\\_coordinate_descent.py:697: ConvergenceWarning: Objective did not converge. You might want to increase the number of iterations, check the scale of the features or consider increasing regularisation. Duality gap: 1.731e+00, tolerance: 4.221e-01\n",
      "  model = cd_fast.enet_coordinate_descent(\n",
      "c:\\Python312\\Lib\\site-packages\\sklearn\\linear_model\\_coordinate_descent.py:697: ConvergenceWarning: Objective did not converge. You might want to increase the number of iterations, check the scale of the features or consider increasing regularisation. Duality gap: 1.459e+00, tolerance: 4.221e-01\n",
      "  model = cd_fast.enet_coordinate_descent(\n",
      "c:\\Python312\\Lib\\site-packages\\sklearn\\linear_model\\_coordinate_descent.py:697: ConvergenceWarning: Objective did not converge. You might want to increase the number of iterations, check the scale of the features or consider increasing regularisation. Duality gap: 1.036e+00, tolerance: 4.221e-01\n",
      "  model = cd_fast.enet_coordinate_descent(\n",
      "c:\\Python312\\Lib\\site-packages\\sklearn\\linear_model\\_coordinate_descent.py:697: ConvergenceWarning: Objective did not converge. You might want to increase the number of iterations, check the scale of the features or consider increasing regularisation. Duality gap: 6.051e-01, tolerance: 4.221e-01\n",
      "  model = cd_fast.enet_coordinate_descent(\n",
      "c:\\Python312\\Lib\\site-packages\\sklearn\\linear_model\\_coordinate_descent.py:697: ConvergenceWarning: Objective did not converge. You might want to increase the number of iterations, check the scale of the features or consider increasing regularisation. Duality gap: 7.440e-01, tolerance: 4.221e-01\n",
      "  model = cd_fast.enet_coordinate_descent(\n",
      "c:\\Python312\\Lib\\site-packages\\sklearn\\linear_model\\_coordinate_descent.py:697: ConvergenceWarning: Objective did not converge. You might want to increase the number of iterations, check the scale of the features or consider increasing regularisation. Duality gap: 2.210e+00, tolerance: 4.221e-01\n",
      "  model = cd_fast.enet_coordinate_descent(\n",
      "c:\\Python312\\Lib\\site-packages\\sklearn\\linear_model\\_coordinate_descent.py:697: ConvergenceWarning: Objective did not converge. You might want to increase the number of iterations, check the scale of the features or consider increasing regularisation. Duality gap: 1.671e+00, tolerance: 4.221e-01\n",
      "  model = cd_fast.enet_coordinate_descent(\n",
      "c:\\Python312\\Lib\\site-packages\\sklearn\\linear_model\\_coordinate_descent.py:697: ConvergenceWarning: Objective did not converge. You might want to increase the number of iterations, check the scale of the features or consider increasing regularisation. Duality gap: 1.431e+00, tolerance: 4.221e-01\n",
      "  model = cd_fast.enet_coordinate_descent(\n",
      "c:\\Python312\\Lib\\site-packages\\sklearn\\linear_model\\_coordinate_descent.py:697: ConvergenceWarning: Objective did not converge. You might want to increase the number of iterations, check the scale of the features or consider increasing regularisation. Duality gap: 9.722e-01, tolerance: 4.221e-01\n",
      "  model = cd_fast.enet_coordinate_descent(\n",
      "c:\\Python312\\Lib\\site-packages\\sklearn\\linear_model\\_coordinate_descent.py:697: ConvergenceWarning: Objective did not converge. You might want to increase the number of iterations, check the scale of the features or consider increasing regularisation. Duality gap: 6.052e-01, tolerance: 4.221e-01\n",
      "  model = cd_fast.enet_coordinate_descent(\n",
      "c:\\Python312\\Lib\\site-packages\\sklearn\\linear_model\\_coordinate_descent.py:697: ConvergenceWarning: Objective did not converge. You might want to increase the number of iterations, check the scale of the features or consider increasing regularisation. Duality gap: 7.442e-01, tolerance: 4.221e-01\n",
      "  model = cd_fast.enet_coordinate_descent(\n"
     ]
    },
    {
     "name": "stdout",
     "output_type": "stream",
     "text": [
      "Оптимальная степень полинома: 14 с средним MSE: 12.804695931165126\n"
     ]
    },
    {
     "data": {
      "image/png": "[encoded data removed]",
      "text/plain": [
       "<Figure size 800x500 with 1 Axes>"
      ]
     },
     "metadata": {},
     "output_type": "display_data"
    }
   ],
   "source": [
    "print('\\n4. Лассо-регрессия и влияние параметра alpha:')\n",
    "lasso_regression_analysis(df)"
   ]
  },
  {
   "cell_type": "code",
   "execution_count": 420,
   "metadata": {},
   "outputs": [
    {
     "name": "stdout",
     "output_type": "stream",
     "text": [
      "Лучшие параметры: {'C': 10000, 'epsilon': 1, 'gamma': 0.01, 'kernel': 'sigmoid'}\n",
      "5. SVR с различными ядрами\n"
     ]
    },
    {
     "data": {
      "text/html": [
       "<div>\n",
       "<style scoped>\n",
       "    .dataframe tbody tr th:only-of-type {\n",
       "        vertical-align: middle;\n",
       "    }\n",
       "\n",
       "    .dataframe tbody tr th {\n",
       "        vertical-align: top;\n",
       "    }\n",
       "\n",
       "    .dataframe thead th {\n",
       "        text-align: right;\n",
       "    }\n",
       "</style>\n",
       "<table border=\"1\" class=\"dataframe\">\n",
       "  <thead>\n",
       "    <tr style=\"text-align: right;\">\n",
       "      <th></th>\n",
       "      <th>Ядро</th>\n",
       "      <th>MSE</th>\n",
       "    </tr>\n",
       "  </thead>\n",
       "  <tbody>\n",
       "    <tr>\n",
       "      <th>0</th>\n",
       "      <td>poly</td>\n",
       "      <td>22.959122</td>\n",
       "    </tr>\n",
       "    <tr>\n",
       "      <th>1</th>\n",
       "      <td>sigmoid</td>\n",
       "      <td>1.986786</td>\n",
       "    </tr>\n",
       "  </tbody>\n",
       "</table>\n",
       "</div>"
      ],
      "text/plain": [
       "      Ядро        MSE\n",
       "0     poly  22.959122\n",
       "1  sigmoid   1.986786"
      ]
     },
     "execution_count": 420,
     "metadata": {},
     "output_type": "execute_result"
    }
   ],
   "source": [
    "svr_analysis(df)"
   ]
  }
 ],
 "metadata": {
  "kernelspec": {
   "display_name": "Python 3",
   "language": "python",
   "name": "python3"
  },
  "language_info": {
   "codemirror_mode": {
    "name": "ipython",
    "version": 3
   },
   "file_extension": ".py",
   "mimetype": "text/x-python",
   "name": "python",
   "nbconvert_exporter": "python",
   "pygments_lexer": "ipython3",
   "version": "3.12.6"
  }
 },
 "nbformat": 4,
 "nbformat_minor": 2
}
