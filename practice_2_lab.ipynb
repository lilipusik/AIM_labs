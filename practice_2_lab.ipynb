{
 "cells": [
  {
   "cell_type": "markdown",
   "metadata": {},
   "source": [
    "# Задача 1.\n",
    "1) Исследовать качество работы классификатора в зависимости от выбранного метода преобразования данных\n",
    "2) Изучить методы преобразования данных: from sklearn.preprocessing https://scikit-learn.org/stable/modules/preprocessing.html\n",
    "3) Критерий качества - accuracy\n",
    "4) Сформировать таблицу для сравнения"
   ]
  },
  {
   "cell_type": "markdown",
   "metadata": {},
   "source": [
    "# Решение\n",
    "Выбранный датасет для выполнения задачи: **iris**, т.к. задача была прописана в файле AIM_practice_2_iris."
   ]
  },
  {
   "cell_type": "code",
   "execution_count": 7,
   "metadata": {},
   "outputs": [],
   "source": [
    "from sklearn.datasets import load_iris\n",
    "\n",
    "iris = load_iris()\n",
    "X, y = iris.data, iris.target"
   ]
  },
  {
   "cell_type": "code",
   "execution_count": 8,
   "metadata": {},
   "outputs": [],
   "source": [
    "from sklearn.model_selection import train_test_split\n",
    "\n",
    "X_train, X_test, y_train, y_test = train_test_split(X, y, test_size=0.3, random_state=42)"
   ]
  },
  {
   "cell_type": "markdown",
   "metadata": {},
   "source": [
    "Выбранные методы предобработки данных:\n",
    "1) **StandardScaler** — для устранения влияния масштаба признаков.\n",
    "2) **MinMaxScaler** — для приведения данных в один диапазон, что важно для моделей, чувствительных к расстояниям.\n",
    "3) **Normalizer** — для нормализации данных, где важны относительные соотношения признаков.\n",
    "4) **Binarizer** — чтобы учитывать только наличие признаков, а не их количественные значения. *(должен быть отрицательный результат работы)*\n",
    "5) **MaxAbsScaler** — сохраняет масштаб признаков, ограниченных положительными и отрицательными значениями, не изменяя их знаки; особенно полезен для данных с признаками, уже находящимися в диапазоне [-1, 1] (и т.к. он использовался в AIM_practice_2_iris)"
   ]
  },
  {
   "cell_type": "code",
   "execution_count": 9,
   "metadata": {},
   "outputs": [],
   "source": [
    "from sklearn.preprocessing import StandardScaler, MinMaxScaler, Normalizer, Binarizer, MaxAbsScaler\n",
    "\n",
    "processing_methods = {\n",
    "    'StandardScaler': StandardScaler(),\n",
    "    'MinMaxScaler': MinMaxScaler(),\n",
    "    'Normalizer': Normalizer(),\n",
    "    'Binarizer': Binarizer(),\n",
    "    'MaxAbsScaler': MaxAbsScaler()\n",
    "}"
   ]
  },
  {
   "cell_type": "markdown",
   "metadata": {},
   "source": [
    "Выбранный классификатор для выполнения задачи: **KNeighborsClassifier**, т.к. именно он использовался в файле AIM_practice_2_iris"
   ]
  },
  {
   "cell_type": "code",
   "execution_count": 10,
   "metadata": {},
   "outputs": [],
   "source": [
    "from sklearn.neighbors import KNeighborsClassifier\n",
    "\n",
    "classifier = KNeighborsClassifier(n_neighbors=1)"
   ]
  },
  {
   "cell_type": "markdown",
   "metadata": {},
   "source": [
    "Предобрабатываем данные на основе выбранных методов и оцениваем точность (accuracy) для выбранного классификатора"
   ]
  },
  {
   "cell_type": "code",
   "execution_count": 11,
   "metadata": {},
   "outputs": [],
   "source": [
    "from sklearn.metrics import accuracy_score\n",
    "\n",
    "results = list()\n",
    "\n",
    "for method_name, transformer in processing_methods.items():\n",
    "\n",
    "    X_train_transformed = transformer.fit_transform(X_train)\n",
    "    X_test_transformed = transformer.transform(X_test)\n",
    "\n",
    "    classifier.fit(X_train_transformed, y_train)\n",
    "\n",
    "    y_pred = classifier.predict(X_test_transformed)\n",
    "\n",
    "    accuracy = accuracy_score(y_test, y_pred)\n",
    "\n",
    "    results.append({\n",
    "        'Proccessing method': method_name,\n",
    "        'Accuracy': accuracy\n",
    "    })"
   ]
  },
  {
   "cell_type": "markdown",
   "metadata": {},
   "source": [
    "Вывод на экран таблицы сравнения"
   ]
  },
  {
   "cell_type": "code",
   "execution_count": 12,
   "metadata": {},
   "outputs": [
    {
     "data": {
      "text/html": [
       "<div>\n",
       "<style scoped>\n",
       "    .dataframe tbody tr th:only-of-type {\n",
       "        vertical-align: middle;\n",
       "    }\n",
       "\n",
       "    .dataframe tbody tr th {\n",
       "        vertical-align: top;\n",
       "    }\n",
       "\n",
       "    .dataframe thead th {\n",
       "        text-align: right;\n",
       "    }\n",
       "</style>\n",
       "<table border=\"1\" class=\"dataframe\">\n",
       "  <thead>\n",
       "    <tr style=\"text-align: right;\">\n",
       "      <th></th>\n",
       "      <th>Proccessing method</th>\n",
       "      <th>Accuracy</th>\n",
       "    </tr>\n",
       "  </thead>\n",
       "  <tbody>\n",
       "    <tr>\n",
       "      <th>0</th>\n",
       "      <td>StandardScaler</td>\n",
       "      <td>0.977778</td>\n",
       "    </tr>\n",
       "    <tr>\n",
       "      <th>1</th>\n",
       "      <td>MinMaxScaler</td>\n",
       "      <td>1.000000</td>\n",
       "    </tr>\n",
       "    <tr>\n",
       "      <th>2</th>\n",
       "      <td>Normalizer</td>\n",
       "      <td>0.977778</td>\n",
       "    </tr>\n",
       "    <tr>\n",
       "      <th>3</th>\n",
       "      <td>Binarizer</td>\n",
       "      <td>0.288889</td>\n",
       "    </tr>\n",
       "    <tr>\n",
       "      <th>4</th>\n",
       "      <td>MaxAbsScaler</td>\n",
       "      <td>0.977778</td>\n",
       "    </tr>\n",
       "  </tbody>\n",
       "</table>\n",
       "</div>"
      ],
      "text/plain": [
       "  Proccessing method  Accuracy\n",
       "0     StandardScaler  0.977778\n",
       "1       MinMaxScaler  1.000000\n",
       "2         Normalizer  0.977778\n",
       "3          Binarizer  0.288889\n",
       "4       MaxAbsScaler  0.977778"
      ]
     },
     "execution_count": 12,
     "metadata": {},
     "output_type": "execute_result"
    }
   ],
   "source": [
    "from pandas import DataFrame\n",
    "\n",
    "DataFrame(results)"
   ]
  },
  {
   "cell_type": "markdown",
   "metadata": {},
   "source": [
    "# Вывод\n",
    "Метод маштабирования (предобработки данных) MinMaxScaler показал идеальный результат при его использовании на выбранном датасете.\n",
    "\n",
    "Методы масштабирования StandardScaler, MaxAbsScaler и Normalizer показали также очень хороший результат. \n",
    "\n",
    "Binarizer оказался неэффективным, что говорит о том, что этот метод не подходит для таких задач, где важна информация о величинах признаков."
   ]
  }
 ],
 "metadata": {
  "kernelspec": {
   "display_name": "Python 3",
   "language": "python",
   "name": "python3"
  },
  "language_info": {
   "codemirror_mode": {
    "name": "ipython",
    "version": 3
   },
   "file_extension": ".py",
   "mimetype": "text/x-python",
   "name": "python",
   "nbconvert_exporter": "python",
   "pygments_lexer": "ipython3",
   "version": "3.12.6"
  }
 },
 "nbformat": 4,
 "nbformat_minor": 2
}
